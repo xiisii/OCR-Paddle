{
  "nbformat": 4,
  "nbformat_minor": 0,
  "metadata": {
    "colab": {
      "provenance": [],
      "gpuType": "T4"
    },
    "kernelspec": {
      "name": "python3",
      "display_name": "Python 3"
    },
    "language_info": {
      "name": "python"
    },
    "accelerator": "GPU"
  },
  "cells": [
    {
      "cell_type": "code",
      "source": [
        "!pip install paddlepaddle-gpu -i https://mirror.baidu.com/pypi/simple"
      ],
      "metadata": {
        "colab": {
          "base_uri": "https://localhost:8080/"
        },
        "id": "p1lNi1sVWdWV",
        "outputId": "aa3de2f7-f857-471c-b60d-b837b2e17096"
      },
      "execution_count": null,
      "outputs": [
        {
          "output_type": "stream",
          "name": "stdout",
          "text": [
            "Looking in indexes: https://mirror.baidu.com/pypi/simple\n",
            "Requirement already satisfied: paddlepaddle-gpu in /usr/local/lib/python3.10/dist-packages (2.6.1)\n",
            "Requirement already satisfied: httpx in /usr/local/lib/python3.10/dist-packages (from paddlepaddle-gpu) (0.27.0)\n",
            "Requirement already satisfied: numpy>=1.13 in /usr/local/lib/python3.10/dist-packages (from paddlepaddle-gpu) (1.25.2)\n",
            "Requirement already satisfied: Pillow in /usr/local/lib/python3.10/dist-packages (from paddlepaddle-gpu) (10.0.1)\n",
            "Requirement already satisfied: decorator in /usr/local/lib/python3.10/dist-packages (from paddlepaddle-gpu) (4.4.2)\n",
            "Requirement already satisfied: astor in /usr/local/lib/python3.10/dist-packages (from paddlepaddle-gpu) (0.8.1)\n",
            "Requirement already satisfied: opt-einsum==3.3.0 in /usr/local/lib/python3.10/dist-packages (from paddlepaddle-gpu) (3.3.0)\n",
            "Requirement already satisfied: protobuf>=3.20.2 in /usr/local/lib/python3.10/dist-packages (from paddlepaddle-gpu) (3.20.3)\n",
            "Requirement already satisfied: anyio in /usr/local/lib/python3.10/dist-packages (from httpx->paddlepaddle-gpu) (3.7.1)\n",
            "Requirement already satisfied: certifi in /usr/local/lib/python3.10/dist-packages (from httpx->paddlepaddle-gpu) (2024.2.2)\n",
            "Requirement already satisfied: httpcore==1.* in /usr/local/lib/python3.10/dist-packages (from httpx->paddlepaddle-gpu) (1.0.5)\n",
            "Requirement already satisfied: idna in /usr/local/lib/python3.10/dist-packages (from httpx->paddlepaddle-gpu) (3.6)\n",
            "Requirement already satisfied: sniffio in /usr/local/lib/python3.10/dist-packages (from httpx->paddlepaddle-gpu) (1.3.1)\n",
            "Requirement already satisfied: h11<0.15,>=0.13 in /usr/local/lib/python3.10/dist-packages (from httpcore==1.*->httpx->paddlepaddle-gpu) (0.14.0)\n",
            "Requirement already satisfied: exceptiongroup in /usr/local/lib/python3.10/dist-packages (from anyio->httpx->paddlepaddle-gpu) (1.2.0)\n"
          ]
        }
      ]
    },
    {
      "cell_type": "code",
      "source": [
        "!git clone https://github.com/PaddlePaddle/PaddleOCR.git"
      ],
      "metadata": {
        "colab": {
          "base_uri": "https://localhost:8080/"
        },
        "id": "oIRupCb_TSmF",
        "outputId": "74919dc2-8a67-4a0f-ec4d-b67a9e7bf4fa"
      },
      "execution_count": null,
      "outputs": [
        {
          "output_type": "stream",
          "name": "stdout",
          "text": [
            "fatal: destination path 'PaddleOCR' already exists and is not an empty directory.\n"
          ]
        }
      ]
    },
    {
      "cell_type": "code",
      "source": [
        "!pip install paddleocr\n",
        "!pip install paddleclas"
      ],
      "metadata": {
        "colab": {
          "base_uri": "https://localhost:8080/"
        },
        "id": "Tt5Lm5DgZIHT",
        "outputId": "587e485b-fb66-4bad-d6c2-b3785cd36b5b"
      },
      "execution_count": null,
      "outputs": [
        {
          "output_type": "stream",
          "name": "stdout",
          "text": [
            "Requirement already satisfied: paddleocr in /usr/local/lib/python3.10/dist-packages (2.7.3)\n",
            "Requirement already satisfied: shapely in /usr/local/lib/python3.10/dist-packages (from paddleocr) (2.0.3)\n",
            "Requirement already satisfied: scikit-image in /usr/local/lib/python3.10/dist-packages (from paddleocr) (0.19.3)\n",
            "Requirement already satisfied: imgaug in /usr/local/lib/python3.10/dist-packages (from paddleocr) (0.4.0)\n",
            "Requirement already satisfied: pyclipper in /usr/local/lib/python3.10/dist-packages (from paddleocr) (1.3.0.post5)\n",
            "Requirement already satisfied: lmdb in /usr/local/lib/python3.10/dist-packages (from paddleocr) (1.4.1)\n",
            "Requirement already satisfied: tqdm in /usr/local/lib/python3.10/dist-packages (from paddleocr) (4.66.2)\n",
            "Requirement already satisfied: numpy in /usr/local/lib/python3.10/dist-packages (from paddleocr) (1.25.2)\n",
            "Requirement already satisfied: visualdl in /usr/local/lib/python3.10/dist-packages (from paddleocr) (2.5.3)\n",
            "Requirement already satisfied: rapidfuzz in /usr/local/lib/python3.10/dist-packages (from paddleocr) (3.7.0)\n",
            "Requirement already satisfied: opencv-python<=4.6.0.66 in /usr/local/lib/python3.10/dist-packages (from paddleocr) (4.6.0.66)\n",
            "Requirement already satisfied: opencv-contrib-python<=4.6.0.66 in /usr/local/lib/python3.10/dist-packages (from paddleocr) (4.6.0.66)\n",
            "Requirement already satisfied: cython in /usr/local/lib/python3.10/dist-packages (from paddleocr) (3.0.9)\n",
            "Requirement already satisfied: lxml in /usr/local/lib/python3.10/dist-packages (from paddleocr) (4.9.4)\n",
            "Requirement already satisfied: premailer in /usr/local/lib/python3.10/dist-packages (from paddleocr) (3.10.0)\n",
            "Requirement already satisfied: openpyxl in /usr/local/lib/python3.10/dist-packages (from paddleocr) (3.1.2)\n",
            "Requirement already satisfied: attrdict in /usr/local/lib/python3.10/dist-packages (from paddleocr) (2.0.1)\n",
            "Requirement already satisfied: Pillow>=10.0.0 in /usr/local/lib/python3.10/dist-packages (from paddleocr) (10.0.1)\n",
            "Requirement already satisfied: pyyaml in /usr/local/lib/python3.10/dist-packages (from paddleocr) (6.0.1)\n",
            "Requirement already satisfied: python-docx in /usr/local/lib/python3.10/dist-packages (from paddleocr) (1.1.0)\n",
            "Requirement already satisfied: beautifulsoup4 in /usr/local/lib/python3.10/dist-packages (from paddleocr) (4.12.3)\n",
            "Requirement already satisfied: fonttools>=4.24.0 in /usr/local/lib/python3.10/dist-packages (from paddleocr) (4.50.0)\n",
            "Requirement already satisfied: fire>=0.3.0 in /usr/local/lib/python3.10/dist-packages (from paddleocr) (0.6.0)\n",
            "Requirement already satisfied: pdf2docx in /usr/local/lib/python3.10/dist-packages (from paddleocr) (0.5.8)\n",
            "Requirement already satisfied: six in /usr/local/lib/python3.10/dist-packages (from fire>=0.3.0->paddleocr) (1.16.0)\n",
            "Requirement already satisfied: termcolor in /usr/local/lib/python3.10/dist-packages (from fire>=0.3.0->paddleocr) (2.4.0)\n",
            "Requirement already satisfied: soupsieve>1.2 in /usr/local/lib/python3.10/dist-packages (from beautifulsoup4->paddleocr) (2.5)\n",
            "Requirement already satisfied: scipy in /usr/local/lib/python3.10/dist-packages (from imgaug->paddleocr) (1.11.4)\n",
            "Requirement already satisfied: matplotlib in /usr/local/lib/python3.10/dist-packages (from imgaug->paddleocr) (3.7.1)\n",
            "Requirement already satisfied: imageio in /usr/local/lib/python3.10/dist-packages (from imgaug->paddleocr) (2.31.6)\n",
            "Requirement already satisfied: networkx>=2.2 in /usr/local/lib/python3.10/dist-packages (from scikit-image->paddleocr) (3.2.1)\n",
            "Requirement already satisfied: tifffile>=2019.7.26 in /usr/local/lib/python3.10/dist-packages (from scikit-image->paddleocr) (2024.2.12)\n",
            "Requirement already satisfied: PyWavelets>=1.1.1 in /usr/local/lib/python3.10/dist-packages (from scikit-image->paddleocr) (1.5.0)\n",
            "Requirement already satisfied: packaging>=20.0 in /usr/local/lib/python3.10/dist-packages (from scikit-image->paddleocr) (24.0)\n",
            "Requirement already satisfied: et-xmlfile in /usr/local/lib/python3.10/dist-packages (from openpyxl->paddleocr) (1.1.0)\n",
            "Requirement already satisfied: PyMuPDF>=1.19.0 in /usr/local/lib/python3.10/dist-packages (from pdf2docx->paddleocr) (1.24.0)\n",
            "Requirement already satisfied: opencv-python-headless>=4.5 in /usr/local/lib/python3.10/dist-packages (from pdf2docx->paddleocr) (4.9.0.80)\n",
            "Requirement already satisfied: typing-extensions in /usr/local/lib/python3.10/dist-packages (from python-docx->paddleocr) (4.10.0)\n",
            "Requirement already satisfied: cssselect in /usr/local/lib/python3.10/dist-packages (from premailer->paddleocr) (1.2.0)\n",
            "Requirement already satisfied: cssutils in /usr/local/lib/python3.10/dist-packages (from premailer->paddleocr) (2.10.2)\n",
            "Requirement already satisfied: requests in /usr/local/lib/python3.10/dist-packages (from premailer->paddleocr) (2.31.0)\n",
            "Requirement already satisfied: cachetools in /usr/local/lib/python3.10/dist-packages (from premailer->paddleocr) (5.3.3)\n",
            "Requirement already satisfied: bce-python-sdk in /usr/local/lib/python3.10/dist-packages (from visualdl->paddleocr) (0.9.6)\n",
            "Requirement already satisfied: flask>=1.1.1 in /usr/local/lib/python3.10/dist-packages (from visualdl->paddleocr) (2.2.5)\n",
            "Requirement already satisfied: Flask-Babel>=3.0.0 in /usr/local/lib/python3.10/dist-packages (from visualdl->paddleocr) (4.0.0)\n",
            "Requirement already satisfied: protobuf>=3.20.0 in /usr/local/lib/python3.10/dist-packages (from visualdl->paddleocr) (3.20.3)\n",
            "Requirement already satisfied: pandas in /usr/local/lib/python3.10/dist-packages (from visualdl->paddleocr) (1.5.3)\n",
            "Requirement already satisfied: rarfile in /usr/local/lib/python3.10/dist-packages (from visualdl->paddleocr) (4.1)\n",
            "Requirement already satisfied: psutil in /usr/local/lib/python3.10/dist-packages (from visualdl->paddleocr) (5.9.5)\n",
            "Requirement already satisfied: Werkzeug>=2.2.2 in /usr/local/lib/python3.10/dist-packages (from flask>=1.1.1->visualdl->paddleocr) (3.0.1)\n",
            "Requirement already satisfied: Jinja2>=3.0 in /usr/local/lib/python3.10/dist-packages (from flask>=1.1.1->visualdl->paddleocr) (3.1.3)\n",
            "Requirement already satisfied: itsdangerous>=2.0 in /usr/local/lib/python3.10/dist-packages (from flask>=1.1.1->visualdl->paddleocr) (2.1.2)\n",
            "Requirement already satisfied: click>=8.0 in /usr/local/lib/python3.10/dist-packages (from flask>=1.1.1->visualdl->paddleocr) (8.1.7)\n",
            "Requirement already satisfied: Babel>=2.12 in /usr/local/lib/python3.10/dist-packages (from Flask-Babel>=3.0.0->visualdl->paddleocr) (2.14.0)\n",
            "Requirement already satisfied: pytz>=2022.7 in /usr/local/lib/python3.10/dist-packages (from Flask-Babel>=3.0.0->visualdl->paddleocr) (2023.4)\n",
            "Requirement already satisfied: PyMuPDFb==1.24.0 in /usr/local/lib/python3.10/dist-packages (from PyMuPDF>=1.19.0->pdf2docx->paddleocr) (1.24.0)\n",
            "Requirement already satisfied: pycryptodome>=3.8.0 in /usr/local/lib/python3.10/dist-packages (from bce-python-sdk->visualdl->paddleocr) (3.20.0)\n",
            "Requirement already satisfied: future>=0.6.0 in /usr/local/lib/python3.10/dist-packages (from bce-python-sdk->visualdl->paddleocr) (0.18.3)\n",
            "Requirement already satisfied: contourpy>=1.0.1 in /usr/local/lib/python3.10/dist-packages (from matplotlib->imgaug->paddleocr) (1.2.0)\n",
            "Requirement already satisfied: cycler>=0.10 in /usr/local/lib/python3.10/dist-packages (from matplotlib->imgaug->paddleocr) (0.12.1)\n",
            "Requirement already satisfied: kiwisolver>=1.0.1 in /usr/local/lib/python3.10/dist-packages (from matplotlib->imgaug->paddleocr) (1.4.5)\n",
            "Requirement already satisfied: pyparsing>=2.3.1 in /usr/local/lib/python3.10/dist-packages (from matplotlib->imgaug->paddleocr) (3.1.2)\n",
            "Requirement already satisfied: python-dateutil>=2.7 in /usr/local/lib/python3.10/dist-packages (from matplotlib->imgaug->paddleocr) (2.8.2)\n",
            "Requirement already satisfied: charset-normalizer<4,>=2 in /usr/local/lib/python3.10/dist-packages (from requests->premailer->paddleocr) (3.3.2)\n",
            "Requirement already satisfied: idna<4,>=2.5 in /usr/local/lib/python3.10/dist-packages (from requests->premailer->paddleocr) (3.6)\n",
            "Requirement already satisfied: urllib3<3,>=1.21.1 in /usr/local/lib/python3.10/dist-packages (from requests->premailer->paddleocr) (2.0.7)\n",
            "Requirement already satisfied: certifi>=2017.4.17 in /usr/local/lib/python3.10/dist-packages (from requests->premailer->paddleocr) (2024.2.2)\n",
            "Requirement already satisfied: MarkupSafe>=2.0 in /usr/local/lib/python3.10/dist-packages (from Jinja2>=3.0->flask>=1.1.1->visualdl->paddleocr) (2.1.5)\n",
            "Collecting paddleclas\n",
            "  Downloading paddleclas-2.5.2-py3-none-any.whl (356 kB)\n",
            "\u001b[2K     \u001b[90m━━━━━━━━━━━━━━━━━━━━━━━━━━━━━━━━━━━━━━━━\u001b[0m \u001b[32m356.2/356.2 kB\u001b[0m \u001b[31m7.4 MB/s\u001b[0m eta \u001b[36m0:00:00\u001b[0m\n",
            "\u001b[?25hRequirement already satisfied: prettytable in /usr/local/lib/python3.10/dist-packages (from paddleclas) (3.10.0)\n",
            "Collecting ujson (from paddleclas)\n",
            "  Downloading ujson-5.9.0-cp310-cp310-manylinux_2_17_x86_64.manylinux2014_x86_64.whl (53 kB)\n",
            "\u001b[2K     \u001b[90m━━━━━━━━━━━━━━━━━━━━━━━━━━━━━━━━━━━━━━━━\u001b[0m \u001b[32m53.2/53.2 kB\u001b[0m \u001b[31m7.0 MB/s\u001b[0m eta \u001b[36m0:00:00\u001b[0m\n",
            "\u001b[?25hRequirement already satisfied: opencv-python==4.6.0.66 in /usr/local/lib/python3.10/dist-packages (from paddleclas) (4.6.0.66)\n",
            "Requirement already satisfied: pillow in /usr/local/lib/python3.10/dist-packages (from paddleclas) (10.0.1)\n",
            "Requirement already satisfied: tqdm in /usr/local/lib/python3.10/dist-packages (from paddleclas) (4.66.2)\n",
            "Requirement already satisfied: PyYAML>=5.1 in /usr/local/lib/python3.10/dist-packages (from paddleclas) (6.0.1)\n",
            "Requirement already satisfied: visualdl>=2.2.0 in /usr/local/lib/python3.10/dist-packages (from paddleclas) (2.5.3)\n",
            "Requirement already satisfied: scipy>=1.0.0 in /usr/local/lib/python3.10/dist-packages (from paddleclas) (1.11.4)\n",
            "Requirement already satisfied: scikit-learn>=0.21.0 in /usr/local/lib/python3.10/dist-packages (from paddleclas) (1.2.2)\n",
            "Collecting gast==0.3.3 (from paddleclas)\n",
            "  Downloading gast-0.3.3-py2.py3-none-any.whl (9.7 kB)\n",
            "Collecting faiss-cpu (from paddleclas)\n",
            "  Downloading faiss_cpu-1.8.0-cp310-cp310-manylinux_2_17_x86_64.manylinux2014_x86_64.whl (27.0 MB)\n",
            "\u001b[2K     \u001b[90m━━━━━━━━━━━━━━━━━━━━━━━━━━━━━━━━━━━━━━━━\u001b[0m \u001b[32m27.0/27.0 MB\u001b[0m \u001b[31m48.9 MB/s\u001b[0m eta \u001b[36m0:00:00\u001b[0m\n",
            "\u001b[?25hRequirement already satisfied: easydict in /usr/local/lib/python3.10/dist-packages (from paddleclas) (1.13)\n",
            "Requirement already satisfied: numpy>=1.21.2 in /usr/local/lib/python3.10/dist-packages (from opencv-python==4.6.0.66->paddleclas) (1.25.2)\n",
            "Requirement already satisfied: joblib>=1.1.1 in /usr/local/lib/python3.10/dist-packages (from scikit-learn>=0.21.0->paddleclas) (1.3.2)\n",
            "Requirement already satisfied: threadpoolctl>=2.0.0 in /usr/local/lib/python3.10/dist-packages (from scikit-learn>=0.21.0->paddleclas) (3.4.0)\n",
            "Requirement already satisfied: bce-python-sdk in /usr/local/lib/python3.10/dist-packages (from visualdl>=2.2.0->paddleclas) (0.9.6)\n",
            "Requirement already satisfied: flask>=1.1.1 in /usr/local/lib/python3.10/dist-packages (from visualdl>=2.2.0->paddleclas) (2.2.5)\n",
            "Requirement already satisfied: Flask-Babel>=3.0.0 in /usr/local/lib/python3.10/dist-packages (from visualdl>=2.2.0->paddleclas) (4.0.0)\n",
            "Requirement already satisfied: protobuf>=3.20.0 in /usr/local/lib/python3.10/dist-packages (from visualdl>=2.2.0->paddleclas) (3.20.3)\n",
            "Requirement already satisfied: requests in /usr/local/lib/python3.10/dist-packages (from visualdl>=2.2.0->paddleclas) (2.31.0)\n",
            "Requirement already satisfied: six>=1.14.0 in /usr/local/lib/python3.10/dist-packages (from visualdl>=2.2.0->paddleclas) (1.16.0)\n",
            "Requirement already satisfied: matplotlib in /usr/local/lib/python3.10/dist-packages (from visualdl>=2.2.0->paddleclas) (3.7.1)\n",
            "Requirement already satisfied: pandas in /usr/local/lib/python3.10/dist-packages (from visualdl>=2.2.0->paddleclas) (1.5.3)\n",
            "Requirement already satisfied: packaging in /usr/local/lib/python3.10/dist-packages (from visualdl>=2.2.0->paddleclas) (24.0)\n",
            "Requirement already satisfied: rarfile in /usr/local/lib/python3.10/dist-packages (from visualdl>=2.2.0->paddleclas) (4.1)\n",
            "Requirement already satisfied: psutil in /usr/local/lib/python3.10/dist-packages (from visualdl>=2.2.0->paddleclas) (5.9.5)\n",
            "Requirement already satisfied: wcwidth in /usr/local/lib/python3.10/dist-packages (from prettytable->paddleclas) (0.2.13)\n",
            "Requirement already satisfied: Werkzeug>=2.2.2 in /usr/local/lib/python3.10/dist-packages (from flask>=1.1.1->visualdl>=2.2.0->paddleclas) (3.0.1)\n",
            "Requirement already satisfied: Jinja2>=3.0 in /usr/local/lib/python3.10/dist-packages (from flask>=1.1.1->visualdl>=2.2.0->paddleclas) (3.1.3)\n",
            "Requirement already satisfied: itsdangerous>=2.0 in /usr/local/lib/python3.10/dist-packages (from flask>=1.1.1->visualdl>=2.2.0->paddleclas) (2.1.2)\n",
            "Requirement already satisfied: click>=8.0 in /usr/local/lib/python3.10/dist-packages (from flask>=1.1.1->visualdl>=2.2.0->paddleclas) (8.1.7)\n",
            "Requirement already satisfied: Babel>=2.12 in /usr/local/lib/python3.10/dist-packages (from Flask-Babel>=3.0.0->visualdl>=2.2.0->paddleclas) (2.14.0)\n",
            "Requirement already satisfied: pytz>=2022.7 in /usr/local/lib/python3.10/dist-packages (from Flask-Babel>=3.0.0->visualdl>=2.2.0->paddleclas) (2023.4)\n",
            "Requirement already satisfied: pycryptodome>=3.8.0 in /usr/local/lib/python3.10/dist-packages (from bce-python-sdk->visualdl>=2.2.0->paddleclas) (3.20.0)\n",
            "Requirement already satisfied: future>=0.6.0 in /usr/local/lib/python3.10/dist-packages (from bce-python-sdk->visualdl>=2.2.0->paddleclas) (0.18.3)\n",
            "Requirement already satisfied: contourpy>=1.0.1 in /usr/local/lib/python3.10/dist-packages (from matplotlib->visualdl>=2.2.0->paddleclas) (1.2.0)\n",
            "Requirement already satisfied: cycler>=0.10 in /usr/local/lib/python3.10/dist-packages (from matplotlib->visualdl>=2.2.0->paddleclas) (0.12.1)\n",
            "Requirement already satisfied: fonttools>=4.22.0 in /usr/local/lib/python3.10/dist-packages (from matplotlib->visualdl>=2.2.0->paddleclas) (4.50.0)\n",
            "Requirement already satisfied: kiwisolver>=1.0.1 in /usr/local/lib/python3.10/dist-packages (from matplotlib->visualdl>=2.2.0->paddleclas) (1.4.5)\n",
            "Requirement already satisfied: pyparsing>=2.3.1 in /usr/local/lib/python3.10/dist-packages (from matplotlib->visualdl>=2.2.0->paddleclas) (3.1.2)\n",
            "Requirement already satisfied: python-dateutil>=2.7 in /usr/local/lib/python3.10/dist-packages (from matplotlib->visualdl>=2.2.0->paddleclas) (2.8.2)\n",
            "Requirement already satisfied: charset-normalizer<4,>=2 in /usr/local/lib/python3.10/dist-packages (from requests->visualdl>=2.2.0->paddleclas) (3.3.2)\n",
            "Requirement already satisfied: idna<4,>=2.5 in /usr/local/lib/python3.10/dist-packages (from requests->visualdl>=2.2.0->paddleclas) (3.6)\n",
            "Requirement already satisfied: urllib3<3,>=1.21.1 in /usr/local/lib/python3.10/dist-packages (from requests->visualdl>=2.2.0->paddleclas) (2.0.7)\n",
            "Requirement already satisfied: certifi>=2017.4.17 in /usr/local/lib/python3.10/dist-packages (from requests->visualdl>=2.2.0->paddleclas) (2024.2.2)\n",
            "Requirement already satisfied: MarkupSafe>=2.0 in /usr/local/lib/python3.10/dist-packages (from Jinja2>=3.0->flask>=1.1.1->visualdl>=2.2.0->paddleclas) (2.1.5)\n",
            "Installing collected packages: ujson, gast, faiss-cpu, paddleclas\n",
            "  Attempting uninstall: gast\n",
            "    Found existing installation: gast 0.5.4\n",
            "    Uninstalling gast-0.5.4:\n",
            "      Successfully uninstalled gast-0.5.4\n",
            "Successfully installed faiss-cpu-1.8.0 gast-0.3.3 paddleclas-2.5.2 ujson-5.9.0\n"
          ]
        }
      ]
    },
    {
      "cell_type": "code",
      "execution_count": null,
      "metadata": {
        "id": "UNa-rRfXOY1T"
      },
      "outputs": [],
      "source": [
        "import os\n",
        "import cv2\n",
        "from paddleocr import PPStructure,draw_structure_result,save_structure_res\n",
        "from paddleocr.ppstructure.recovery.recovery_to_doc import sorted_layout_boxes, convert_info_docx\n",
        "from PIL import Image"
      ]
    },
    {
      "cell_type": "code",
      "source": [
        "table_engine = PPStructure(show_log=True, image_orientation=True, recovery=True)"
      ],
      "metadata": {
        "colab": {
          "base_uri": "https://localhost:8080/"
        },
        "id": "plQWFj-uO-kZ",
        "outputId": "3996870e-2527-4833-9890-787327189d02"
      },
      "execution_count": null,
      "outputs": [
        {
          "output_type": "stream",
          "name": "stdout",
          "text": [
            "[2024/04/01 06:50:24] ppocr DEBUG: Namespace(help='==SUPPRESS==', use_gpu=True, use_xpu=False, use_npu=False, ir_optim=True, use_tensorrt=False, min_subgraph_size=15, precision='fp32', gpu_mem=500, gpu_id=0, image_dir=None, page_num=0, det_algorithm='DB', det_model_dir='/root/.paddleocr/whl/det/ch/ch_PP-OCRv4_det_infer', det_limit_side_len=960, det_limit_type='max', det_box_type='quad', det_db_thresh=0.3, det_db_box_thresh=0.6, det_db_unclip_ratio=1.5, max_batch_size=10, use_dilation=False, det_db_score_mode='fast', det_east_score_thresh=0.8, det_east_cover_thresh=0.1, det_east_nms_thresh=0.2, det_sast_score_thresh=0.5, det_sast_nms_thresh=0.2, det_pse_thresh=0, det_pse_box_thresh=0.85, det_pse_min_area=16, det_pse_scale=1, scales=[8, 16, 32], alpha=1.0, beta=1.0, fourier_degree=5, rec_algorithm='SVTR_LCNet', rec_model_dir='/root/.paddleocr/whl/rec/ch/ch_PP-OCRv4_rec_infer', rec_image_inverse=True, rec_image_shape='3, 48, 320', rec_batch_num=6, max_text_length=25, rec_char_dict_path='/usr/local/lib/python3.10/dist-packages/paddleocr/ppocr/utils/ppocr_keys_v1.txt', use_space_char=True, vis_font_path='./doc/fonts/simfang.ttf', drop_score=0.5, e2e_algorithm='PGNet', e2e_model_dir=None, e2e_limit_side_len=768, e2e_limit_type='max', e2e_pgnet_score_thresh=0.5, e2e_char_dict_path='./ppocr/utils/ic15_dict.txt', e2e_pgnet_valid_set='totaltext', e2e_pgnet_mode='fast', use_angle_cls=False, cls_model_dir=None, cls_image_shape='3, 48, 192', label_list=['0', '180'], cls_batch_num=6, cls_thresh=0.9, enable_mkldnn=False, cpu_threads=10, use_pdserving=False, warmup=False, sr_model_dir=None, sr_image_shape='3, 32, 128', sr_batch_num=1, draw_img_save_dir='./inference_results', save_crop_res=False, crop_res_save_dir='./output', use_mp=False, total_process_num=1, process_id=0, benchmark=False, save_log_path='./log_output/', show_log=True, use_onnx=False, output='./output', table_max_len=488, table_algorithm='TableAttn', table_model_dir='/root/.paddleocr/whl/table/ch_ppstructure_mobile_v2.0_SLANet_infer', merge_no_span_structure=True, table_char_dict_path='/usr/local/lib/python3.10/dist-packages/paddleocr/ppocr/utils/dict/table_structure_dict_ch.txt', layout_model_dir='/root/.paddleocr/whl/layout/picodet_lcnet_x1_0_fgd_layout_cdla_infer', layout_dict_path='/usr/local/lib/python3.10/dist-packages/paddleocr/ppocr/utils/dict/layout_dict/layout_cdla_dict.txt', layout_score_threshold=0.5, layout_nms_threshold=0.5, kie_algorithm='LayoutXLM', ser_model_dir=None, re_model_dir=None, use_visual_backbone=True, ser_dict_path='../train_data/XFUND/class_list_xfun.txt', ocr_order_method=None, mode='structure', image_orientation=True, layout=True, table=True, ocr=True, recovery=True, use_pdf2docx_api=False, invert=False, binarize=False, alphacolor=(255, 255, 255), lang='ch', det=True, rec=True, type='ocr', ocr_version='PP-OCRv4', structure_version='PP-StructureV2')\n"
          ]
        }
      ]
    },
    {
      "cell_type": "code",
      "source": [
        "save_folder = './output'\n",
        "img_path = '/content/bd1.jpg'\n",
        "img = cv2.imread(img_path)\n",
        "result = table_engine(img)\n",
        "save_structure_res(result, save_folder,os.path.basename(img_path).split('.')[0])\n",
        "\n",
        "for line in result:\n",
        "    line.pop('img')\n",
        "    print(line)"
      ],
      "metadata": {
        "id": "lZHjG_CCO_Uw",
        "colab": {
          "base_uri": "https://localhost:8080/"
        },
        "outputId": "81482f2c-c442-47eb-d2b5-acf3de7f8196"
      },
      "execution_count": null,
      "outputs": [
        {
          "output_type": "stream",
          "name": "stdout",
          "text": [
            "[2024/04/01 06:53:55] ppocr DEBUG: dt_boxes num : 81, elapse : 0.14212584495544434\n",
            "[2024/04/01 06:53:55] ppocr DEBUG: rec_res num  : 81, elapse : 0.63688063621521\n",
            "{'type': 'table', 'bbox': [88, 2, 1022, 1007], 'res': {'cell_bbox': [[17.936975479125977, 18.751474380493164, 900.385986328125, 19.606754302978516, 902.815185546875, 397.653564453125, 19.31325340270996, 400.1370544433594], [12.12336254119873, 340.36175537109375, 79.4263916015625, 348.3685607910156, 78.23025512695312, 385.0992431640625, 11.880722045898438, 379.6553649902344], [83.70390319824219, 365.79217529296875, 237.56582641601562, 371.47943115234375, 234.9124298095703, 417.6908874511719, 81.94763946533203, 415.28955078125], [231.61721801757812, 360.3632507324219, 362.4635314941406, 367.62158203125, 355.6376647949219, 413.5032653808594, 225.66441345214844, 410.37933349609375], [359.7089538574219, 341.17083740234375, 483.391845703125, 348.9893493652344, 474.3290100097656, 395.6491394042969, 351.0058288574219, 392.64202880859375], [476.62835693359375, 313.9682312011719, 776.4526977539062, 320.5601501464844, 768.33447265625, 392.4707336425781, 462.9568176269531, 390.8656921386719], [19.642765045166016, 415.1776123046875, 71.68528747558594, 417.6165771484375, 72.01454162597656, 438.7937316894531, 19.852401733398438, 439.0822448730469], [84.8741226196289, 424.89813232421875, 232.87472534179688, 425.7272033691406, 232.91073608398438, 440.3551025390625, 85.36959838867188, 442.2373962402344], [223.6787872314453, 422.4494323730469, 356.9755859375, 423.3955078125, 356.6984558105469, 446.9287414550781, 223.5660400390625, 448.666015625], [352.76251220703125, 413.23321533203125, 475.0013732910156, 414.9700927734375, 473.349365234375, 441.331787109375, 351.9658508300781, 442.7655944824219], [477.03509521484375, 417.50543212890625, 786.8486328125, 419.5950622558594, 784.423828125, 500.5696105957031, 474.2712097167969, 501.0000915527344], [14.024354934692383, 451.79022216796875, 69.06809997558594, 450.1411437988281, 69.80084228515625, 480.63427734375, 14.252669334411621, 483.9877014160156], [79.97293090820312, 464.2034606933594, 222.8381805419922, 463.64007568359375, 224.975830078125, 480.40863037109375, 81.04063415527344, 482.7843933105469], [220.5426025390625, 463.81341552734375, 351.0833435058594, 463.00177001953125, 352.6492004394531, 486.0177307128906, 221.3707275390625, 488.5823669433594], [351.1385192871094, 459.22186279296875, 466.3893127441406, 459.1720275878906, 467.5787048339844, 481.0994567871094, 352.715087890625, 483.640869140625], [487.807373046875, 490.1246032714844, 856.5419921875, 495.1690979003906, 855.3010864257812, 650.5938110351562, 487.0060729980469, 646.65380859375], [11.311165809631348, 485.5013427734375, 63.53090286254883, 481.94036865234375, 62.81011199951172, 504.4035949707031, 11.310957908630371, 508.0582580566406], [71.19302368164062, 488.0982666015625, 208.67068481445312, 482.8856506347656, 212.3488006591797, 498.4862365722656, 72.93093872070312, 504.7080078125], [217.7788543701172, 490.3058776855469, 356.1113586425781, 486.4268493652344, 358.4112548828125, 513.453125, 220.1907196044922, 517.5438842773438], [343.1698303222656, 486.19879150390625, 454.45513916015625, 483.6706848144531, 457.36383056640625, 509.36285400390625, 346.860595703125, 512.9834594726562], [16.874614715576172, 531.6842651367188, 63.767784118652344, 529.2608032226562, 63.03546905517578, 549.2716064453125, 16.68385887145996, 554.5308837890625], [77.09646606445312, 522.5181274414062, 212.3120880126953, 521.787109375, 214.69447326660156, 540.5798950195312, 77.68604278564453, 543.7959594726562], [225.318115234375, 536.7421875, 354.95208740234375, 535.5491943359375, 354.2474365234375, 562.5701293945312, 225.499755859375, 565.4027099609375], [351.32537841796875, 529.6050415039062, 457.78985595703125, 529.4490356445312, 459.0582275390625, 554.7049560546875, 352.29681396484375, 557.0127563476562], [19.86503791809082, 576.37744140625, 68.23231506347656, 573.7032470703125, 66.97561645507812, 598.5809936523438, 19.417217254638672, 603.9150390625], [79.18094635009766, 569.068115234375, 218.6149444580078, 566.9575805664062, 219.548095703125, 584.9876098632812, 78.9242935180664, 588.6212158203125], [229.89117431640625, 576.3673095703125, 355.6238098144531, 575.68505859375, 355.63604736328125, 602.1590576171875, 229.9931640625, 604.4568481445312], [357.31805419921875, 575.5140991210938, 455.112060546875, 575.2221069335938, 456.92071533203125, 599.1467895507812, 357.7306213378906, 601.3538208007812], [17.038028717041016, 602.9724731445312, 60.29923629760742, 601.6378173828125, 59.586097717285156, 633.7660522460938, 16.757858276367188, 636.567626953125], [75.1489486694336, 606.06591796875, 214.0649871826172, 606.3815307617188, 213.18838500976562, 632.4871215820312, 74.71907806396484, 632.83154296875], [216.84263610839844, 613.3475952148438, 344.7600402832031, 613.3952026367188, 344.1458435058594, 643.8218383789062, 216.37664794921875, 644.4584350585938], [348.0545349121094, 617.8361206054688, 456.165283203125, 618.388671875, 456.8449401855469, 643.9218139648438, 348.5306701660156, 644.5802001953125], [497.7906494140625, 610.64013671875, 838.32080078125, 616.2169189453125, 835.2174072265625, 956.0403442382812, 490.9629211425781, 954.615478515625], [17.156871795654297, 637.390869140625, 57.55397415161133, 633.5098266601562, 56.951717376708984, 663.9842529296875, 17.19864273071289, 667.78173828125], [72.52278900146484, 642.5235595703125, 202.7518310546875, 639.6307373046875, 205.52255249023438, 668.80419921875, 73.73069763183594, 671.9570922851562], [209.61627197265625, 643.819580078125, 341.6925964355469, 641.3135375976562, 343.96343994140625, 673.86865234375, 211.5510711669922, 676.3153686523438], [337.27899169921875, 634.330078125, 453.9288024902344, 632.6407470703125, 456.8877868652344, 664.945068359375, 340.8118896484375, 667.0595703125], [19.92778205871582, 675.9927978515625, 60.14964294433594, 673.06298828125, 59.678001403808594, 692.9069213867188, 20.02530860900879, 696.4439086914062], [72.91173553466797, 668.42041015625, 209.3188934326172, 665.8114624023438, 210.20895385742188, 689.5635375976562, 73.41775512695312, 692.807861328125], [217.57591247558594, 675.9009399414062, 356.8414001464844, 672.6017456054688, 356.7834777832031, 699.3613891601562, 218.26988220214844, 703.1182250976562], [344.63458251953125, 673.1997680664062, 456.29449462890625, 671.2797241210938, 458.30828857421875, 695.1519775390625, 346.5690002441406, 697.9884033203125], [20.118690490722656, 711.0602416992188, 62.135780334472656, 708.398193359375, 60.99387741088867, 730.1786499023438, 19.719356536865234, 734.3507690429688], [75.69892883300781, 702.5717163085938, 213.22557067871094, 701.3206787109375, 214.34463500976562, 723.5353393554688, 75.59949493408203, 725.9179077148438], [214.92630004882812, 709.6920776367188, 352.7046203613281, 707.2994384765625, 353.2784423828125, 736.9080810546875, 214.8219451904297, 739.9855346679688], [347.3579406738281, 709.8748779296875, 458.9962158203125, 709.2357177734375, 461.9725341796875, 738.6328125, 348.31634521484375, 740.5419921875], [20.597549438476562, 745.2109985351562, 69.63626098632812, 743.5632934570312, 68.19193267822266, 768.0099487304688, 20.032512664794922, 770.6729736328125], [73.98591613769531, 735.9993286132812, 214.6769256591797, 735.3197631835938, 214.89891052246094, 759.13330078125, 73.40533447265625, 760.0193481445312], [215.1556396484375, 743.4313354492188, 346.6959533691406, 742.28759765625, 347.5844421386719, 773.9659423828125, 215.240478515625, 775.4952392578125], [348.57720947265625, 749.2284545898438, 465.8299560546875, 748.88232421875, 468.1922302246094, 782.4674072265625, 349.194091796875, 783.7684936523438], [17.183490753173828, 774.7994995117188, 62.72764587402344, 773.1121826171875, 62.185890197753906, 804.90625, 16.965829849243164, 806.58935546875], [66.26496887207031, 774.760498046875, 208.19834899902344, 774.0640869140625, 208.1822052001953, 808.6357421875, 66.1835708618164, 808.7236328125], [211.7277374267578, 780.181884765625, 339.21240234375, 779.3148193359375, 338.99371337890625, 815.8844604492188, 211.19244384765625, 816.5875244140625], [342.355712890625, 789.4935302734375, 466.7730712890625, 789.0062255859375, 466.9653625488281, 823.9298706054688, 342.25457763671875, 824.619873046875], [502.46783447265625, 778.3372802734375, 775.744873046875, 778.3017578125, 770.3192138671875, 990.5154418945312, 493.85772705078125, 990.2915649414062], [13.918085098266602, 808.5425415039062, 55.20736312866211, 808.3311767578125, 54.416011810302734, 840.2777099609375, 13.969283103942871, 839.7946166992188], [67.67777252197266, 814.4655151367188, 200.7017364501953, 811.6846923828125, 203.48947143554688, 839.1502685546875, 68.65348815917969, 841.30078125], [215.36585998535156, 820.3941650390625, 344.9964294433594, 816.8990478515625, 348.2242126464844, 847.0274047851562, 217.51246643066406, 849.2501220703125], [334.84375, 819.8419189453125, 462.4620666503906, 817.3031616210938, 466.9331970214844, 849.3414306640625, 338.71893310546875, 851.3038330078125], [14.876668930053711, 844.7420043945312, 55.91933059692383, 842.5586547851562, 54.874542236328125, 876.0545654296875, 14.640901565551758, 878.3489379882812], [68.28929138183594, 846.3355102539062, 199.641357421875, 845.221435546875, 199.90199279785156, 876.148193359375, 67.82471466064453, 877.6378173828125], [213.3430938720703, 850.7557983398438, 349.1844787597656, 848.9482421875, 348.14373779296875, 884.8624267578125, 211.99008178710938, 886.65234375], [335.151611328125, 851.7396240234375, 465.8703918457031, 850.9889526367188, 465.7530822753906, 886.90771484375, 333.5160827636719, 888.064697265625], [13.392460823059082, 878.579833984375, 59.546478271484375, 877.7554321289062, 58.220703125, 912.1295776367188, 13.07421588897705, 913.380859375], [67.37104034423828, 884.4160766601562, 201.04771423339844, 884.29638671875, 200.36260986328125, 913.8255004882812, 66.5645751953125, 914.2783203125], [216.39364624023438, 888.3841552734375, 346.7955627441406, 887.8937377929688, 347.15057373046875, 922.3405151367188, 215.8660888671875, 923.0916748046875], [340.1399841308594, 891.35205078125, 462.7444763183594, 891.4414672851562, 465.11639404296875, 927.505126953125, 340.1896667480469, 927.9165649414062], [13.379115104675293, 906.9667358398438, 129.67527770996094, 908.72705078125, 129.1481170654297, 951.0643310546875, 13.347766876220703, 950.2429809570312], [220.7483673095703, 933.0244750976562, 342.6725158691406, 932.87841796875, 346.2546081542969, 965.2280883789062, 221.63839721679688, 965.3715209960938], [336.33221435546875, 938.5569458007812, 452.22076416015625, 937.8956298828125, 451.3058776855469, 972.0927124023438, 332.1406555175781, 972.4808349609375], [472.3930969238281, 945.4229736328125, 764.2455444335938, 943.8652954101562, 761.3082275390625, 995.6995239257812, 465.609375, 995.9124145507812]], 'html': '<html><body><table><tbody><tr><td colspan=\"6\">Doc lap - Ty do - Hanh phic Dong Da, ngay 19 thang 05 nam 2017 THONG BAO KET QUA HOC TAP VA REN LUYEN Nam hoc: 2016-2017 Ho va ten hoc sinh:</td></tr><tr><td>STT</td><td>MON HOC</td><td>DIEM TBM KI II</td><td>DIEMTBM</td><td>NHAN XET CHUNG</td></tr><tr><td></td><td></td><td>7.9</td><td>CANAM</td><td>1.Hqc tap: - Con tiep thu bai nhanh, cham</td></tr><tr><td>1</td><td>Ngir van</td><td>8.6</td><td>8.0</td><td rowspan=\"4\">hqc. - Hoc deu cac mon. 2.Ki luat: -Ngoan,l phep,than thin.</td></tr><tr><td>2</td><td>Toan</td><td>9.6</td><td>8.7</td></tr><tr><td>3 4</td><td>Vatly</td><td>8.3</td><td>9.6 8.3</td></tr><tr><td>5</td><td>Hoahoc</td><td>9.8</td><td>9.8</td></tr><tr><td></td><td>Sinh hoc Lich sur</td><td>7.8</td><td>8.3</td><td rowspan=\"5\">-Thyc hien tot noi quy truong, 1op. -Nhiet tinh.</td></tr><tr><td>6</td><td></td><td>8.3</td><td></td></tr><tr><td>7</td><td>Dialy</td><td></td><td>8.7</td></tr><tr><td>8</td><td>GDCD</td><td>9.4</td><td>9.6 8.7</td></tr><tr><td>9</td><td>Tieng Anh</td><td>8.8</td><td>9.6</td></tr><tr><td>10</td><td>Cong nghe</td><td>9.6</td><td></td><td rowspan=\"4\">3.Xep loai: -Hoc lurc: Gioi -Hanh kiem: Tot -Dat danh hieu: HSG</td></tr><tr><td>11</td><td>Amnhac</td><td>Dat</td><td>Dat</td></tr><tr><td>12</td><td>Mythuat</td><td>Dat</td><td>Dat</td></tr><tr><td>13</td><td>Theduc</td><td>Dat</td><td>Dat</td></tr><tr><td colspan=\"2\">Diem TB cac mon</td><td>8.8</td><td>8.9</td><td></td></tr></tbody></table></body></html>'}, 'img_idx': 0}\n"
          ]
        }
      ]
    },
    {
      "cell_type": "code",
      "source": [
        "font_path = '/content/latin.ttf' # PaddleOCR下提供字体包\n",
        "image = Image.open(img_path).convert('RGB')\n",
        "im_show = draw_structure_result(image, result,font_path=font_path)\n",
        "im_show = Image.fromarray(im_show)\n",
        "im_show.save('result.jpg')"
      ],
      "metadata": {
        "id": "SiPXO4eBPBf6"
      },
      "execution_count": null,
      "outputs": []
    },
    {
      "cell_type": "code",
      "source": [
        "h, w, _ = img.shape\n",
        "res = sorted_layout_boxes(result, w)\n",
        "convert_info_docx(img, res, save_folder, os.path.basename(img_path).split('.')[0])"
      ],
      "metadata": {
        "id": "J0eKHXx0PvYI",
        "colab": {
          "base_uri": "https://localhost:8080/"
        },
        "outputId": "19a33a7b-07c3-499b-82cd-81057f010f31"
      },
      "execution_count": null,
      "outputs": [
        {
          "output_type": "stream",
          "name": "stdout",
          "text": [
            "[2024/04/01 06:54:22] ppocr INFO: docx save to ./output/bd1_ocr.docx\n"
          ]
        }
      ]
    }
  ]
}